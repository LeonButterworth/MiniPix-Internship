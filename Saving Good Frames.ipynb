{
 "cells": [
  {
   "cell_type": "code",
   "execution_count": 4,
   "id": "ae3ab09b",
   "metadata": {},
   "outputs": [],
   "source": [
    "############################################################################\n",
    "# reads canvas/pixel files of individual frames\n",
    "# if the frame contains a particle (other than the hot pixels), the entire frame is saved\n",
    "# a cutout around the particle is also saved\n",
    "# also saves the list of frames that are saved to a txt document\n",
    "############################################################################\n",
    "\n",
    "import numpy as np\n",
    "from PIL import Image \n",
    "import pandas as pd\n",
    "from matplotlib import pyplot as plt\n",
    "from PIL import Image\n",
    "\n",
    "directory = \"C:\\\\Users\\\\Butter\\\\Desktop\\\\Machine Learning\\\\Raw Data\\\\6000 frames up 2\\\\\"\n",
    "# loops over all files in directory\n",
    "for i in range(6000):\n",
    "    if i < 10:\n",
    "        file_name = \"Frame-000\" + str(i)\n",
    "    elif i > 9 and i < 100:\n",
    "        file_name = \"Frame-00\" + str(i)\n",
    "    elif i > 99 and i < 1000:\n",
    "        file_name = \"Frame-0\" + str(i)\n",
    "    elif i > 999:\n",
    "        file_name = \"Frame-\" + str(i)\n",
    "    file = open(directory + file_name + \".txt\")\n",
    "    \n",
    "    # read in data\n",
    "    data = pd.read_table(file, header=None, delimiter=' ', nrows=256) \n",
    "    data = data.iloc[:, :]\n",
    "    rows, cols = data.shape\n",
    "    na = np.array(data)\n",
    "    # remove hot pixels\n",
    "    na[112][231] -= 0.5\n",
    "    na[139][224] -= 0.5\n",
    "    total = np.sum(na)\n",
    "    \n",
    "    ## make an image of the canvas\n",
    "    plt.figure(figsize=(3.4, 3.4), dpi=100) # dimensions give a 256x256 pixel image\n",
    "    plt.axis('off')\n",
    "    plt.imshow(na>0, origin=\"lower\",cmap=\"gray\")\n",
    "    # saves image if there is a particle i.e. sum of pixels values > 0\n",
    "    if total > 0:\n",
    "        # save image\n",
    "        plt.savefig(\"C:\\\\Users\\\\Butter\\\\Desktop\\\\Machine Learning\\\\Sorted Data\\\\6000 frames up 2\\\\\" \n",
    "                    + file_name + \".jpg\",dpi=100, bbox_inches='tight',pad_inches = 0)\n",
    "        # save image as a grayscale image as as opposed to an rgb image (which is what the previous step does)\n",
    "        Image.open(\"C:\\\\Users\\\\Butter\\\\Desktop\\\\Machine Learning\\\\Sorted Data\\\\6000 frames up 2\\\\\" \n",
    "                    + file_name + \".jpg\").convert(\"L\").save(\"C:\\\\Users\\\\Butter\\\\Desktop\\\\Machine Learning\\\\Sorted Data\\\\6000 frames up 2\\\\\" \n",
    "                    + file_name + \".jpg\")\n",
    "        # saves frame name to txt file\n",
    "        txt_file = open(\"C:\\\\Users\\\\Butter\\\\Desktop\\\\Machine Learning\\\\Sorted Data\\\\6000 frames up 2\\\\File Names.txt\", \"a\")\n",
    "        txt_file.write(file_name + \"\\n\")\n",
    "        txt_file.close()\n",
    "        \n",
    "        # read in image data\n",
    "        directory1 = \"C:\\\\Users\\\\Butter\\\\Desktop\\\\Machine Learning\\\\Sorted Data\\\\6000 frames up 2\\\\\"\n",
    "        img = plt.imread(directory1 + file_name + \".jpg\")\n",
    "        \n",
    "        # checks that there is a particle i.e. sum of pixels values > 0\n",
    "        total1 = 0\n",
    "        for i in range(256):\n",
    "            for j in range(256):\n",
    "                total1 += img[i][j]\n",
    "        # if a pixel has a non-zero value, append the x and y coordinate to separate arrays\n",
    "        if total1 > 0:\n",
    "            x_arr, y_arr = [], []\n",
    "            for i in range(256):\n",
    "                for j in range(256):\n",
    "                    if img[i][j] != 0:\n",
    "                        x_arr.append(j)\n",
    "                        y_arr.append(i)\n",
    "            # get the min and max x and y values to find the limits of the non-zero pixels within the canvas\n",
    "            x_min, x_max = min(x_arr), max(x_arr)\n",
    "            y_min, y_max = min(y_arr), max(y_arr)\n",
    "\n",
    "            # create range in which the particle (and all non-zero particles) lie\n",
    "            x_range, y_range = (x_max - x_min) + 1, (y_max - y_min) + 1\n",
    "            #print(x_min, x_max, y_min, y_max, x_range, y_range)\n",
    "\n",
    "            # recreate image in only the range provided by the particle and non-zero pixels instead of the whole canvas\n",
    "            rows, cols = (x_range, y_range)\n",
    "            pix_arr = [[0]*rows]*cols\n",
    "\n",
    "            pix_arr = np.array(pix_arr)\n",
    "            \n",
    "            # get infromation from the whole canvas and add the pixel values to a new array\n",
    "            for x in range(x_range):\n",
    "                for y in range(y_range):\n",
    "                    x_val = x_min + x # the positions of the particle will likwly have some offset (i.e. wont start at 0,0) so the code has to go though the old positions with the offset but start at 0,0 when adding the code to a new array\n",
    "                    y_val = y_min + y\n",
    "                    pix_arr[y][x] = img[y_val][x_val]\n",
    "\n",
    "            # plot and save the image\n",
    "            plt.figure(figsize=(3.4, 3.4), dpi=100)\n",
    "            plt.axis('off')\n",
    "            plt.imshow(pix_arr,cmap=\"cividis\")\n",
    "\n",
    "            plt.savefig(\"C:\\\\Users\\\\Butter\\\\Desktop\\\\Machine Learning\\\\Sorted Data\\\\6000 frames up 2 - small blue\\\\\" \n",
    "                                + file_name + \".jpg\",dpi=100, bbox_inches='tight',pad_inches = 0)\n",
    "            plt.close()\n",
    "    plt.close()"
   ]
  },
  {
   "cell_type": "code",
   "execution_count": 7,
   "id": "1e028f76",
   "metadata": {},
   "outputs": [
    {
     "name": "stdout",
     "output_type": "stream",
     "text": [
      "x min = 240\n",
      "x max = 255\n",
      "y min = 152\n",
      "y max = 167\n",
      "x range = 16\n",
      "y range = 16\n",
      "[[  0  14   0   0  15   0   0   6   4   0  11   0   8   0  11   0]\n",
      " [  7   0   6   0   0  34   0   0   0   0   9   9   0   8   0   7]\n",
      " [  0  19   0   6   3   0   6 101  98  95   7   0   0   0   9   0]\n",
      " [  0   3   9   0  10   0  85 246 235 246  97   0  13   0  15   0]\n",
      " [  3   7   0   6   0  87 255 255 255 255 238  94   2  11   0   8]\n",
      " [ 16   0  16   0   0 249 255 255 255 242 255 235   0   4   0   3]\n",
      " [  0   4   0   0  16 255 240 255 252 255 239 255   0   0  13   0]\n",
      " [  0   0   4   0   5 249 255 252 245 255 253 239   9   3   0   2]\n",
      " [  0  16   0   0   5 172 171 255 245 255 249 166   5  15   0  13]\n",
      " [  3   0   0  29   0   7  18 169 188 174 179  24   0   0  12   0]\n",
      " [  4   2   1   0   0   0   0   7   0   0  20   0   2   2   1   0]\n",
      " [  0   8   2   0  12   4   1   0   2  10   0  17   2  17   0  11]\n",
      " [  0   5   0   9   4   0   1  13   0   7   3   0   0   8   1  13]\n",
      " [  0  11   0   0   0  14   8   0   4   7   6   1   9   4   0   0]\n",
      " [  0   0   2  15   0   0   0  11  11   0   0   6   0   0   0  13]\n",
      " [  9   0   2   0   0   9   2   0   0   1  16   2   0   0  17   0]]\n"
     ]
    },
    {
     "data": {
      "text/plain": [
       "<matplotlib.image.AxesImage at 0x275fdd93888>"
      ]
     },
     "execution_count": 7,
     "metadata": {},
     "output_type": "execute_result"
    },
    {
     "data": {
      "image/png": "[encoded data removed]",
      "text/plain": [
       "<Figure size 432x288 with 1 Axes>"
      ]
     },
     "metadata": {
      "needs_background": "light"
     },
     "output_type": "display_data"
    },
    {
     "data": {
      "image/png": "[encoded data removed]",
      "text/plain": [
       "<Figure size 340x340 with 1 Axes>"
      ]
     },
     "metadata": {
      "needs_background": "light"
     },
     "output_type": "display_data"
    }
   ],
   "source": [
    "# testing\n",
    "\n",
    "directory = \"C:\\\\Users\\\\Butter\\\\Desktop\\\\Machine Learning\\\\Alpha and electron classification\\\\Data\\\\Training\\\\0-Alpha\\\\\"\n",
    "file_name = \"0_9.jpg\"\n",
    "\n",
    "img = plt.imread(directory + file_name)\n",
    "plt.imshow(img,cmap=\"cividis\")\n",
    "\n",
    "x_arr, y_arr = [], []\n",
    "for i in range(256):\n",
    "    for j in range(256):\n",
    "        if img[i][j] != 0:\n",
    "            x_arr.append(j)\n",
    "            y_arr.append(i)\n",
    "\n",
    "x_min, x_max = min(x_arr), max(x_arr)\n",
    "y_min, y_max = min(y_arr), max(y_arr)\n",
    "\n",
    "x_range, y_range = (x_max - x_min) + 1, (y_max - y_min) + 1\n",
    "print(\"x min =\", x_min)\n",
    "print(\"x max =\", x_max)\n",
    "print(\"y min =\", y_min)\n",
    "print(\"y max =\", y_max)\n",
    "print(\"x range =\", x_range)\n",
    "print(\"y range =\", y_range)\n",
    "\n",
    "rows, cols = (x_range, y_range)\n",
    "pix_arr = [[0]*rows]*cols\n",
    "\n",
    "pix_arr = np.array(pix_arr)\n",
    "\n",
    "for x in range(x_range):\n",
    "    for y in range(y_range):\n",
    "        x_val = x_min + x\n",
    "        y_val = y_min + y\n",
    "        #print(y_val, x_val, img[y_val][x_val])\n",
    "        pix_arr[y][x] = img[y_val][x_val]\n",
    "        \n",
    "print(pix_arr)\n",
    "\n",
    "plt.figure(figsize=(3.4, 3.4), dpi=100)\n",
    "plt.axis('off')\n",
    "plt.imshow(pix_arr,cmap=\"cividis\")"
   ]
  },
  {
   "cell_type": "code",
   "execution_count": null,
   "id": "0f167a99",
   "metadata": {},
   "outputs": [],
   "source": []
  }
 ],
 "metadata": {
  "kernelspec": {
   "display_name": "Python 3 (ipykernel)",
   "language": "python",
   "name": "python3"
  },
  "language_info": {
   "codemirror_mode": {
    "name": "ipython",
    "version": 3
   },
   "file_extension": ".py",
   "mimetype": "text/x-python",
   "name": "python",
   "nbconvert_exporter": "python",
   "pygments_lexer": "ipython3",
   "version": "3.7.13"
  }
 },
 "nbformat": 4,
 "nbformat_minor": 5
}
